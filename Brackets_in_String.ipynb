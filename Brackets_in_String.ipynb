{
 "cells": [
  {
   "cell_type": "markdown",
   "metadata": {},
   "source": [
    ">{[()]}() valid\n",
    "> {[()]}) not valid"
   ]
  },
  {
   "cell_type": "code",
   "execution_count": 14,
   "metadata": {},
   "outputs": [],
   "source": [
    "\n",
    "def functionbrackets(s):\n",
    "    a= []\n",
    "    for i in range(len(s)):\n",
    "        if ((s[i] == '{') or (s[i] == '[') or (s[i] == '('))  :\n",
    "            a.append(s[i])\n",
    "            \n",
    "        \n",
    "        if(len(a))==0:\n",
    "            return False\n",
    "        \n",
    "        if s[i] == '}':\n",
    "            x= a.pop()\n",
    "            if (x=='(' or x=='['):\n",
    "                return False\n",
    "            \n",
    "        elif s[i] == ']':\n",
    "            x= a.pop()\n",
    "            if (x=='(' or x=='{'):\n",
    "                return False\n",
    "            \n",
    "        elif (s[i] == ')'):\n",
    "            x= a.pop()\n",
    "            if (x=='[' or x=='{'):\n",
    "                return False\n",
    "            \n",
    "    if len(a):\n",
    "        return False\n",
    "    else :\n",
    "        return True\n",
    "    \n",
    "\n",
    "    "
   ]
  },
  {
   "cell_type": "code",
   "execution_count": 16,
   "metadata": {},
   "outputs": [
    {
     "name": "stdout",
     "output_type": "stream",
     "text": [
      "1\n",
      "1\n",
      "1\n",
      "7\n",
      "Valid\n"
     ]
    }
   ],
   "source": [
    "if (functionbrackets(\"({()})\")):\n",
    "    print(\"Valid\")\n",
    "else :\n",
    "    print(\"Invalid\")"
   ]
  },
  {
   "cell_type": "code",
   "execution_count": null,
   "metadata": {},
   "outputs": [],
   "source": []
  }
 ],
 "metadata": {
  "kernelspec": {
   "display_name": "Python 3",
   "language": "python",
   "name": "python3"
  },
  "language_info": {
   "codemirror_mode": {
    "name": "ipython",
    "version": 3
   },
   "file_extension": ".py",
   "mimetype": "text/x-python",
   "name": "python",
   "nbconvert_exporter": "python",
   "pygments_lexer": "ipython3",
   "version": "3.6.9"
  }
 },
 "nbformat": 4,
 "nbformat_minor": 2
}
